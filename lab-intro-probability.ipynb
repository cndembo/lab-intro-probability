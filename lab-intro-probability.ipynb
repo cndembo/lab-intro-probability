{
 "cells": [
  {
   "cell_type": "markdown",
   "metadata": {},
   "source": [
    "# Lab | Intro to Probability"
   ]
  },
  {
   "cell_type": "markdown",
   "metadata": {},
   "source": [
    "**Objective**\n",
    "\n",
    "Welcome to this Intro to Probability lab, where we explore decision-making scenarios through the lens of probability and strategic analysis. In the business world, making informed decisions is crucial, especially when faced with uncertainties. This lab focuses on scenarios where probabilistic outcomes play a significant role in shaping strategies and outcomes. Students will engage in exercises that require assessing and choosing optimal paths based on data-driven insights. The goal is to enhance your skills by applying probability concepts to solve real-world problems."
   ]
  },
  {
   "cell_type": "markdown",
   "metadata": {},
   "source": [
    "**Challenge 1**"
   ]
  },
  {
   "cell_type": "markdown",
   "metadata": {},
   "source": [
    "#### Ironhack Airlines \n",
    "\n",
    "Often Airlines sell more tickets than they have seats available, this is called overbooking. Consider the following:\n",
    "- A plane has 450 seats. \n",
    "- Based on historical data we conclude that each individual passenger has a 3% chance of missing it's flight. \n",
    "\n",
    "If the Ironhack Airlines routinely sells 460 tickets, what is the chance that they have a seats for all passenger?"
   ]
  },
  {
   "cell_type": "code",
   "execution_count": 1,
   "metadata": {},
   "outputs": [
    {
     "name": "stdout",
     "output_type": "stream",
     "text": [
      "Probability that all passengers will have seats is: 88.45%\n"
     ]
    }
   ],
   "source": [
    "import numpy as np\n",
    "import matplotlib.pyplot as plt\n",
    "from scipy.stats import norm, binom, geom, expon, poisson\n",
    "\n",
    "n = 460\n",
    "p = 0.97\n",
    "binom_dist = binom(n,p)\n",
    "prob = binom_dist.cdf(450) #probability of at least 450 seats be occupied by a passanger\n",
    "\n",
    "print(f\"Probability that all passengers will have seats is: {round(prob*100,2)}%\")"
   ]
  },
  {
   "cell_type": "markdown",
   "metadata": {},
   "source": [
    "**Challenge 2**"
   ]
  },
  {
   "cell_type": "markdown",
   "metadata": {},
   "source": [
    "#### Ironhack Call Center "
   ]
  },
  {
   "cell_type": "markdown",
   "metadata": {},
   "source": [
    "Suppose a customer service representative at a call center is handling customer complaints. Consider the following:\n",
    "- The probability of successfully resolving a customer complaint on the first attempt is 0.3. \n",
    "\n",
    "\n",
    "What is the probability that the representative needs to make at least three attempts before successfully resolving a customer complaint?"
   ]
  },
  {
   "cell_type": "code",
   "execution_count": 7,
   "metadata": {},
   "outputs": [
    {
     "name": "stdout",
     "output_type": "stream",
     "text": [
      "The probability of representative successfully solves a customer complaint after three attempts is 65.7%\n"
     ]
    }
   ],
   "source": [
    "from scipy.stats import geom\n",
    "\n",
    "p = 0.3\n",
    "p_solve = geom(p)\n",
    "prob = p_solve.cdf(3) #probability of achiving success after 3 trials (the sum of 3 pmf's) \n",
    "\n",
    "print(f\"The probability of representative successfully solves a customer complaint after three attempts is {round(prob*100,2)}%\")"
   ]
  },
  {
   "cell_type": "markdown",
   "metadata": {},
   "source": [
    "**Challenge 3**"
   ]
  },
  {
   "cell_type": "markdown",
   "metadata": {},
   "source": [
    "#### Ironhack Website"
   ]
  },
  {
   "cell_type": "markdown",
   "metadata": {},
   "source": [
    "Consider a scenario related to Ironhack website traffic. Where:\n",
    "- our website takes on average 500 visits per hour.\n",
    "- the website's server is designed to handle up to 550 vists per hour.\n",
    "\n",
    "\n",
    "What is the probability of the website server being overwhelmed?"
   ]
  },
  {
   "cell_type": "code",
   "execution_count": 15,
   "metadata": {},
   "outputs": [
    {
     "name": "stdout",
     "output_type": "stream",
     "text": [
      "The probability of website server being overhelmed in one hour is 1.29%\n"
     ]
    }
   ],
   "source": [
    "from scipy.stats import poisson #expresses the probability of a given number of events ocurring in a fixed interval of time or space;\n",
    "\n",
    "mu = 500 #average number of visits per hour;\n",
    "poisson_dist = poisson(mu) \n",
    "prob = poisson_dist.cdf(550) #cdf allows to visualize the cumulative probability of having the 550 visits;\n",
    "prob = 1 - prob #this operation returns the probability of being overhelmed in 1 hour\n",
    "#prob = round(prob*100,2)\n",
    "\n",
    "print(f\"The probability of website server being overhelmed in one hour is {round((prob*100),2)}%\") "
   ]
  },
  {
   "cell_type": "markdown",
   "metadata": {},
   "source": [
    "What is the probability of being overwhelmed at some point during a day? (consider 24hours)"
   ]
  },
  {
   "cell_type": "code",
   "execution_count": 14,
   "metadata": {},
   "outputs": [
    {
     "name": "stdout",
     "output_type": "stream",
     "text": [
      "The probability of website being overhelmed at some point during a day is 1.0%\n"
     ]
    }
   ],
   "source": [
    "p = prob #p from the previous exercise is the probability of being overhelmed in 1 hour\n",
    "n = 24 #hours\n",
    "binom_dist = binom (n,p) #p from the previous exercise is the probability of being overhelmed in 1 hour\n",
    "\n",
    "prob = binom_dist.cdf(13200) # the prob of having (550 sucess x 24h) \n",
    "\n",
    "print(f\"The probability of website being overhelmed at some point during a day is {prob}%\") "
   ]
  },
  {
   "cell_type": "markdown",
   "metadata": {},
   "source": [
    "**Challenge 4**"
   ]
  },
  {
   "cell_type": "markdown",
   "metadata": {},
   "source": [
    "#### Ironhack Helpdesk"
   ]
  },
  {
   "cell_type": "markdown",
   "metadata": {},
   "source": [
    "Consider a scenario related to the time between arrivals of customers at a service desk.\n",
    "\n",
    "On average, a customers arrives every 10minutes.\n",
    "\n",
    "What is the probability that the next customer will arrive within the next 5 minutes?"
   ]
  },
  {
   "cell_type": "code",
   "execution_count": 17,
   "metadata": {},
   "outputs": [
    {
     "name": "stdout",
     "output_type": "stream",
     "text": [
      "The probability of a client arrival in the next 5 minutes is 1.27%\n"
     ]
    }
   ],
   "source": [
    "#exponential distribution\n",
    "from scipy.stats import expon\n",
    "\n",
    "lambda_value = 0.16 #customers arrives every 10 minutes (10m/60m = 0.16)\n",
    "lambda_inv = expon(scale = 1/lambda_value)\n",
    "prob = round(lambda_inv.cdf(0.08)*100,2) #(5/60 = 0.08)\n",
    "\n",
    "print(f\"The probability of a client arrival in the next 5 minutes is {prob}%\")"
   ]
  },
  {
   "cell_type": "markdown",
   "metadata": {},
   "source": [
    "If there is no customer for 15minutes, employees can that a 5minutes break.\n",
    "\n",
    "What is the probability an employee taking a break?"
   ]
  },
  {
   "cell_type": "code",
   "execution_count": 86,
   "metadata": {},
   "outputs": [
    {
     "name": "stdout",
     "output_type": "stream",
     "text": [
      "The probability of employee taking a 5 minute break after 15min with no customer is 99.82304668422415%\n"
     ]
    }
   ],
   "source": [
    "#poisson distribution\n",
    "mu = 12 # average number of visits per hour from, evert five minutes\n",
    "poisson_dist = poisson(mu)\n",
    "prob = poisson_dist.pmf(3) #probs of having one event in 15 minutes\n",
    "prob\n",
    "print(f\"The probability of employee taking a 5 minute break after 15min with no customer is {(1-prob)*100}%\")\n"
   ]
  },
  {
   "cell_type": "code",
   "execution_count": 62,
   "metadata": {},
   "outputs": [
    {
     "name": "stdout",
     "output_type": "stream",
     "text": [
      "The probability of employee taking a 5 minute break after 15min with no customer is 100.0%\n"
     ]
    }
   ],
   "source": [
    "# #exponencial distribution - model time between events that happen one after another\n",
    "# lambda_value = 5 #client arrives every 5 minutes\n",
    "# lambda_inv = expon(scale = 1/lambda_value)\n",
    "# prob = round(lambda_inv.cdf(7)*100,2) #probability of taking a break after 15 minutes without a client\n",
    "\n",
    "# print(f\"The probability of employee taking a 5 minute break after 15min with no customer is {prob}%\")"
   ]
  },
  {
   "cell_type": "markdown",
   "metadata": {},
   "source": [
    "**Challenge 5**"
   ]
  },
  {
   "cell_type": "markdown",
   "metadata": {},
   "source": [
    "The weights of a certain species of birds follow a normal distribution with a mean weight of 150 grams and a standard deviation of 10 grams. \n",
    "\n",
    "- If we randomly select a bird, what is the probability that its weight is between 140 and 160 grams?"
   ]
  },
  {
   "cell_type": "code",
   "execution_count": 14,
   "metadata": {},
   "outputs": [
    {
     "name": "stdout",
     "output_type": "stream",
     "text": [
      "The probability of the birds weight being between 140g and 160g is 68.27%\n"
     ]
    }
   ],
   "source": [
    "from scipy.stats import norm\n",
    "\n",
    "mean = 150\n",
    "std = 10\n",
    "\n",
    "norm_dist = norm(loc = mean, scale = std)\n",
    "prob = round(((norm_dist.cdf(160) - norm_dist.cdf(140))*100),2)\n",
    "print(f\"The probability of the birds weight being between 140g and 160g is {prob}%\")"
   ]
  },
  {
   "cell_type": "markdown",
   "metadata": {},
   "source": [
    "**Challenge 6**"
   ]
  },
  {
   "cell_type": "markdown",
   "metadata": {},
   "source": [
    "If the lifetime (in hours) of a certain electronic component follows an exponential distribution with a mean lifetime of 50 hours, what is the probability that the component fails within the first 30 hours?"
   ]
  },
  {
   "cell_type": "code",
   "execution_count": 93,
   "metadata": {},
   "outputs": [
    {
     "name": "stdout",
     "output_type": "stream",
     "text": [
      "The probability for component failing within the first 30h is 13.93%\n"
     ]
    }
   ],
   "source": [
    "#code here\n",
    "from scipy.stats import expon #represents the rate of events occuring per unit of time\n",
    " \n",
    "lambda_value = 0.50 #lifetime of 50 hours\n",
    "lambda_inv = expon(scale = 1/lambda_value)\n",
    "\n",
    "prob = lambda_inv.cdf(0.30) #probability of failing in the firts 30 hours?\n",
    "print(f\"The probability for component failing within the first 30h is {round(prob*100,2)}%\")"
   ]
  }
 ],
 "metadata": {
  "kernelspec": {
   "display_name": "Python 3",
   "language": "python",
   "name": "python3"
  },
  "language_info": {
   "codemirror_mode": {
    "name": "ipython",
    "version": 3
   },
   "file_extension": ".py",
   "mimetype": "text/x-python",
   "name": "python",
   "nbconvert_exporter": "python",
   "pygments_lexer": "ipython3",
   "version": "3.12.4"
  }
 },
 "nbformat": 4,
 "nbformat_minor": 2
}
